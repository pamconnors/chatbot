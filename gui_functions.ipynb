{
 "cells": [
  {
   "cell_type": "code",
   "execution_count": 4,
   "metadata": {},
   "outputs": [
    {
     "name": "stderr",
     "output_type": "stream",
     "text": [
      "[nltk_data] Downloading package punkt to\n",
      "[nltk_data]     C:\\Users\\joshu\\AppData\\Roaming\\nltk_data...\n",
      "[nltk_data]   Package punkt is already up-to-date!\n",
      "[nltk_data] Downloading package wordnet to\n",
      "[nltk_data]     C:\\Users\\joshu\\AppData\\Roaming\\nltk_data...\n",
      "[nltk_data]   Package wordnet is already up-to-date!\n"
     ]
    }
   ],
   "source": [
    "#libraries.py\n",
    "import nltk\n",
    "nltk.download('punkt')\n",
    "nltk.download('wordnet')\n",
    "from nltk.stem import WordNetLemmatizer\n",
    "lemmatizer = WordNetLemmatizer()\n",
    "import json\n",
    "import pickle\n",
    "\n",
    "import numpy as np\n",
    "from tensorflow.keras.models import Sequential\n",
    "from tensorflow.keras.layers import Dense, Activation, Dropout\n",
    "from tensorflow.keras.optimizers import SGD\n",
    "import random"
   ]
  },
  {
   "cell_type": "code",
   "execution_count": 5,
   "metadata": {},
   "outputs": [],
   "source": [
    "import json\n",
    "words = []\n",
    "classes = []\n",
    "documents = []\n",
    "ignore_words = ['?', '!']\n",
    "intents = json.loads(open('intents.json').read())\n",
    "kaggle_intents = json.loads(open('kaggle_intent.json').read())\n",
    "c_intents = json.loads(open('complete_intents.json').read())"
   ]
  },
  {
   "cell_type": "code",
   "execution_count": 6,
   "metadata": {},
   "outputs": [],
   "source": [
    "#Chat Init\n",
    "from tensorflow.keras.models import load_model\n",
    "import json\n",
    "import random\n",
    "\n",
    "#Load Model here\n",
    "model = load_model('chatbot_model.h5')\n",
    "\n",
    "\n",
    "kaggle_intents = json.loads(open('kaggle_intent.json').read())\n",
    "intents = json.loads(open('intents.json').read())\n",
    "words = pickle.load(open('words.pkl','rb'))\n",
    "classes = pickle.load(open('classes.pkl','rb'))\n",
    "c_intents = json.loads(open('complete_intents.json').read())"
   ]
  },
  {
   "cell_type": "code",
   "execution_count": 17,
   "metadata": {},
   "outputs": [],
   "source": [
    "#Chat_functions\n",
    "def clean_up_sentence(sentence):\n",
    "    sentence_words = nltk.word_tokenize(sentence)\n",
    "    sentence_words = [lemmatizer.lemmatize(word.lower()) for word in sentence_words]\n",
    "    print(f'clean_up_sentence output: {sentence_words}')\n",
    "    return sentence_words\n",
    "\n",
    "# return bag of words array: 0 or 1 for each word in the bag that exists in the sentence\n",
    "\n",
    "def bow(sentence, words, show_details=False):\n",
    "    # tokenize the pattern\n",
    "    sentence_words = clean_up_sentence(sentence)\n",
    "    # bag of words - matrix of N words, vocabulary matrix\n",
    "    bag = [0]*len(words)\n",
    "    for s in sentence_words:\n",
    "        for i,w in enumerate(words):\n",
    "            if w == s:\n",
    "                # assign 1 if current word is in the vocabulary position\n",
    "                bag[i] = 1\n",
    "    return(np.array(bag))\n",
    "\n",
    "def predict_class(sentence, model):\n",
    "    # filter out predictions below a threshold\n",
    "    p = bow(sentence, words,show_details=True)\n",
    "    #print(p)\n",
    "    res = model.predict(np.array([p]))[0]\n",
    "    #parameter\n",
    "    ERROR_THRESHOLD = 0.3\n",
    "    results = [[i,r] for i,r in enumerate(res) if r>ERROR_THRESHOLD]\n",
    "    # sort by strength of probability\n",
    "    results.sort(key=lambda x: x[1], reverse=True)\n",
    "    return_list = []\n",
    "    #print(return_list)\n",
    "    for r in results:\n",
    "        return_list.append({\"intent\": classes[r[0]], \"probability\": str(r[1])})\n",
    "    return return_list\n",
    "\n",
    "def getResponse(ints, intents_json):\n",
    "    result = ''\n",
    "    #print(ints)\n",
    "    tag = ints[0]['intent']\n",
    "    list_of_intents = intents_json['intents']\n",
    "    #print(tag)\n",
    "    for i in list_of_intents:\n",
    "        if(i['tag']== tag):\n",
    "            result = random.choice(i['responses'])\n",
    "            break\n",
    "    return result\n",
    "\n",
    "#Starter Method\n",
    "def chatbot_response(msg):\n",
    "    ints = predict_class(msg, model)\n",
    "    res = getResponse(ints, c_intents)\n",
    "    return res"
   ]
  },
  {
   "cell_type": "code",
   "execution_count": 18,
   "metadata": {},
   "outputs": [
    {
     "name": "stdout",
     "output_type": "stream",
     "text": [
      "clean_up_sentence output: ['tell', 'me', 'a', 'joke']\n",
      "found in bag: me\n",
      "found in bag: me\n",
      "found in bag: me\n",
      "found in bag: me\n",
      "found in bag: me\n",
      "found in bag: me\n",
      "found in bag: me\n",
      "found in bag: me\n",
      "found in bag: me\n",
      "found in bag: me\n",
      "found in bag: me\n",
      "found in bag: me\n",
      "found in bag: a\n",
      "found in bag: a\n",
      "found in bag: a\n",
      "found in bag: a\n",
      "found in bag: a\n",
      "found in bag: a\n",
      "found in bag: a\n",
      "found in bag: a\n",
      "found in bag: a\n",
      "found in bag: a\n",
      "found in bag: a\n",
      "found in bag: a\n",
      "found in bag: a\n",
      "found in bag: a\n",
      "found in bag: a\n",
      "found in bag: a\n",
      "found in bag: a\n",
      "found in bag: a\n",
      "found in bag: a\n",
      "found in bag: a\n",
      "found in bag: a\n",
      "found in bag: a\n",
      "found in bag: a\n",
      "found in bag: a\n",
      "found in bag: a\n",
      "found in bag: a\n",
      "found in bag: a\n",
      "found in bag: a\n",
      "found in bag: a\n",
      "found in bag: a\n",
      "found in bag: a\n",
      "found in bag: a\n",
      "found in bag: a\n",
      "found in bag: a\n",
      "found in bag: a\n",
      "found in bag: a\n",
      "found in bag: a\n",
      "found in bag: a\n",
      "found in bag: a\n",
      "found in bag: a\n",
      "found in bag: a\n",
      "found in bag: a\n",
      "found in bag: a\n",
      "found in bag: a\n",
      "found in bag: a\n",
      "found in bag: a\n",
      "found in bag: a\n",
      "found in bag: a\n",
      "found in bag: a\n",
      "found in bag: a\n",
      "found in bag: a\n",
      "found in bag: a\n"
     ]
    },
    {
     "data": {
      "text/plain": [
       "'Tell me your problem to assist you'"
      ]
     },
     "execution_count": 18,
     "metadata": {},
     "output_type": "execute_result"
    }
   ],
   "source": [
    "chatbot_response('Tell me a joke')"
   ]
  }
 ],
 "metadata": {
  "interpreter": {
   "hash": "8a5dc956a962429649cc00d757d2cf00342d20ffd24d615f05971e6efa781ba3"
  },
  "kernelspec": {
   "display_name": "Python 3.8.12 64-bit ('msds': conda)",
   "language": "python",
   "name": "python3"
  },
  "language_info": {
   "codemirror_mode": {
    "name": "ipython",
    "version": 3
   },
   "file_extension": ".py",
   "mimetype": "text/x-python",
   "name": "python",
   "nbconvert_exporter": "python",
   "pygments_lexer": "ipython3",
   "version": "3.8.12"
  },
  "orig_nbformat": 4
 },
 "nbformat": 4,
 "nbformat_minor": 2
}
